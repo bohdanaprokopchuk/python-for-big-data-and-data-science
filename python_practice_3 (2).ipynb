{
  "nbformat": 4,
  "nbformat_minor": 0,
  "metadata": {
    "colab": {
      "provenance": []
    },
    "kernelspec": {
      "name": "python3",
      "display_name": "Python 3"
    },
    "language_info": {
      "name": "python"
    }
  },
  "cells": [
    {
      "cell_type": "markdown",
      "source": [
        "# I. Оператори порівняння та логічні оператори. Умови."
      ],
      "metadata": {
        "id": "qDEi2Pi-4yUC"
      }
    },
    {
      "cell_type": "markdown",
      "source": [
        "1. Створіть цілочисленну змінну зі своїм щасливим або улюбленим числом. Напишіть код, який би автоматизовував наступну задачу.\n",
        "\n",
        "Якщо число парне, помножте його на 2 та виведіть результат на екран.\n",
        "\n",
        "Але якщо число непарне, помножте його на 3 та додайте 1 і виведіть на екран."
      ],
      "metadata": {
        "id": "3v8D4Dkm43Ua"
      }
    },
    {
      "cell_type": "code",
      "execution_count": 2,
      "metadata": {
        "id": "dlVjc-Nu4bmb",
        "colab": {
          "base_uri": "https://localhost:8080/"
        },
        "outputId": "5d797a82-2099-4e60-be36-5b22b05a9061"
      },
      "outputs": [
        {
          "output_type": "stream",
          "name": "stdout",
          "text": [
            "28\n"
          ]
        }
      ],
      "source": [
        "my_number = 9\n",
        "if my_number % 2 ==0:\n",
        "    print(my_number * 2)\n",
        "else:\n",
        "    print(my_number * 3 + 1)\n",
        "\n"
      ]
    },
    {
      "cell_type": "code",
      "source": [
        "my_number = 34\n",
        "if my_number % 2 ==0:\n",
        "    print(my_number * 2)\n",
        "else:\n",
        "    print(my_number * 3 + 1)"
      ],
      "metadata": {
        "colab": {
          "base_uri": "https://localhost:8080/"
        },
        "id": "ym58eptZmbcD",
        "outputId": "e6a18b4a-235c-4376-8ffd-051e6bfa480c"
      },
      "execution_count": 1,
      "outputs": [
        {
          "output_type": "stream",
          "name": "stdout",
          "text": [
            "68\n"
          ]
        }
      ]
    },
    {
      "cell_type": "markdown",
      "source": [
        "2. Створіть змінну, що посилається на список. Якщо список пустий, додайте будь-який елемент у кінець списку. Якщо ж ні, то нічого не робіть."
      ],
      "metadata": {
        "id": "H669P0QK5BI_"
      }
    },
    {
      "cell_type": "code",
      "source": [
        "my_list = []\n",
        "if my_list==[]:\n",
        "    my_list.append(51)\n",
        "else:\n",
        "    print(\"List is not empty!\")\n",
        "\n",
        "print(my_list)"
      ],
      "metadata": {
        "id": "ecWlfra45f6E",
        "colab": {
          "base_uri": "https://localhost:8080/"
        },
        "outputId": "504f1774-e0af-4c91-b67b-88c11a2c07bb"
      },
      "execution_count": 4,
      "outputs": [
        {
          "output_type": "stream",
          "name": "stdout",
          "text": [
            "[51]\n"
          ]
        }
      ]
    },
    {
      "cell_type": "code",
      "source": [
        "my_list = [1, 23, 11, 45, 76, 0]\n",
        "if my_list==[]:\n",
        "    my_list.append(51)\n",
        "else:\n",
        "    print(\"List is not empty!\")\n",
        "\n",
        "print(my_list)"
      ],
      "metadata": {
        "colab": {
          "base_uri": "https://localhost:8080/"
        },
        "id": "ckOaJQZsoHy9",
        "outputId": "b0c01fce-b587-4193-f997-17cca9cab8b8"
      },
      "execution_count": 3,
      "outputs": [
        {
          "output_type": "stream",
          "name": "stdout",
          "text": [
            "List is not empty!\n",
            "[1, 23, 11, 45, 76, 0]\n"
          ]
        }
      ]
    },
    {
      "cell_type": "markdown",
      "source": [
        "3. Створіть рядок зі своїм імʼям латинкою. Напишіть код, який би автоматизовував наступну задачу.\n",
        "\n",
        "Якщо в імені є літера \"а\"\n",
        " або \"i\", Виведіть на екран повідомлення \"A or I is in the name\".\n",
        "\n",
        "\n",
        "\n",
        "Якщо в імені є літери \"o\" та \"n\", Виведіть на екран повідомлення \"O and N is in the name\".\n",
        "\n",
        "Також якщо в імені немає літери \"о\", але є \"n\", Виведіть на екран повідомлення \"Only N is in the name\".\n",
        "\n",
        "В решті випадків виведіть на екран повідомлення \"There is no N in the name, but there might be O\".\n",
        "\n",
        "Зверніть увагу, що, наприклад, для імені \"Antonina\" буде виведено два повідомлення."
      ],
      "metadata": {
        "id": "h9Y3cMUd5h85"
      }
    },
    {
      "cell_type": "code",
      "source": [
        "my_name = \"Bohdana\"\n",
        "if \"a\" in my_name or \"i\" in my_name:\n",
        "    print( \"A or I is in the name\" )\n",
        "\n",
        "if \"o\" in my_name and \"n\" in my_name:\n",
        "    print( \"O and N is in the name\" )\n",
        "elif \"n\" in my_name and \"o\" not in my_name:\n",
        "    print( \"Only N is in the name\" )\n",
        "else:\n",
        "    print( \"There is no N in the name, but there might be O\" )"
      ],
      "metadata": {
        "id": "bUH4LUx35u52",
        "colab": {
          "base_uri": "https://localhost:8080/"
        },
        "outputId": "e00543b3-2565-470f-d400-6aaa3fc956f5"
      },
      "execution_count": 7,
      "outputs": [
        {
          "output_type": "stream",
          "name": "stdout",
          "text": [
            "A or I is in the name\n",
            "O and N is in the name\n"
          ]
        }
      ]
    },
    {
      "cell_type": "markdown",
      "source": [
        "# II. Comprehensions."
      ],
      "metadata": {
        "id": "wPCXJv4354cU"
      }
    },
    {
      "cell_type": "markdown",
      "source": [
        "4. Створіть список, використовуючи if (не if-else), range та comprehension."
      ],
      "metadata": {
        "id": "jULLW5jN55Pw"
      }
    },
    {
      "cell_type": "code",
      "source": [
        "my_list = [ x for x in range(10) if x % 2 != 0 ]\n",
        "print(my_list)"
      ],
      "metadata": {
        "id": "mlZalnVC6W3F",
        "colab": {
          "base_uri": "https://localhost:8080/"
        },
        "outputId": "10bbc300-7945-44e3-f088-1d8521ad1669"
      },
      "execution_count": 8,
      "outputs": [
        {
          "output_type": "stream",
          "name": "stdout",
          "text": [
            "[1, 3, 5, 7, 9]\n"
          ]
        }
      ]
    },
    {
      "cell_type": "markdown",
      "source": [
        "5. Створіть словник, використовуючи dict comprehension, що містить if else. Коли слід використовувати comprehensions, а коли їх слід уникати?"
      ],
      "metadata": {
        "id": "LqhEQ4JW6XcC"
      }
    },
    {
      "cell_type": "code",
      "source": [
        "my_dict = {p: p+p if p == 3 or p == 5 else p ** 2 for p in range(10) }\n",
        "print(my_dict)"
      ],
      "metadata": {
        "id": "1yVaFbOs6hta",
        "colab": {
          "base_uri": "https://localhost:8080/"
        },
        "outputId": "7d9707c2-cfe2-4435-e12c-0530f02642fe"
      },
      "execution_count": null,
      "outputs": [
        {
          "output_type": "stream",
          "name": "stdout",
          "text": [
            "{0: 0, 1: 1, 2: 4, 3: 6, 4: 16, 5: 10, 6: 36, 7: 49, 8: 64, 9: 81}\n"
          ]
        }
      ]
    },
    {
      "cell_type": "markdown",
      "source": [
        "*місце для відповіді\n",
        "\n",
        "Коли слід уникати comprehensions:\n",
        "\n",
        "Логіка стає занадто складною і comprehension стає важко читати.\n",
        "\n",
        "Потрібна велика продуктивність, адже Comprehensions можуть бути трохи повільнішими, ніж еквівалентні цикли for.\n",
        "\n",
        "\n",
        "Використання comprehensions:\n",
        "\n",
        "Зробити код більш читабельним та лаконічним.\n",
        "\n",
        "Створити новий список з існуючого, застосовуючи до нього певну логіку.\n",
        "\n",
        "Виконати прості математичні операції над елементами списку."
      ],
      "metadata": {
        "id": "wbkzNhKq6hzz"
      }
    },
    {
      "cell_type": "markdown",
      "source": [
        "6. Створіть список з рядками та запишіть його у змінну. Створіть ще один список на основі попереднього, де кожен рядок буде містити тільки три перших заглавних символи. Наприклад: ['hello', 'i', 'dont', 'care'] -> ['HEL', 'I', 'DON', 'CAR']. Використання comprehensions обовʼязкове."
      ],
      "metadata": {
        "id": "ZlqB8G3G6lHP"
      }
    },
    {
      "cell_type": "code",
      "source": [
        "first_list = ['my', 'cat', 'drinks', 'milk']\n",
        "result_list = [ word[:3].upper() for word in first_list]\n",
        "print(result_list)"
      ],
      "metadata": {
        "id": "nw6rz0bR60VC",
        "colab": {
          "base_uri": "https://localhost:8080/"
        },
        "outputId": "7bf7d4b1-bec0-4f77-ed21-abd732e8d83e"
      },
      "execution_count": null,
      "outputs": [
        {
          "output_type": "stream",
          "name": "stdout",
          "text": [
            "['MY', 'CAT', 'DRI', 'MIL']\n"
          ]
        }
      ]
    },
    {
      "cell_type": "markdown",
      "source": [
        "# III. Цикли."
      ],
      "metadata": {
        "id": "Tj573IAH64Fz"
      }
    },
    {
      "cell_type": "markdown",
      "source": [
        "7. Продемонструйте роботу циклу while. Не можна використовувати True для запуску циклу, щоб уникнути безкінечного циклу!"
      ],
      "metadata": {
        "id": "tN_33xdE65H5"
      }
    },
    {
      "cell_type": "code",
      "source": [
        "b = 20\n",
        "while b != 0:\n",
        "    print(b)\n",
        "    b -= 2\n",
        "print(\"It works!\")"
      ],
      "metadata": {
        "id": "Kd9FO6yG63P5",
        "colab": {
          "base_uri": "https://localhost:8080/"
        },
        "outputId": "395443a0-dd6a-4ed6-f7b4-2bdf6622fc85"
      },
      "execution_count": null,
      "outputs": [
        {
          "output_type": "stream",
          "name": "stdout",
          "text": [
            "20\n",
            "18\n",
            "16\n",
            "14\n",
            "12\n",
            "10\n",
            "8\n",
            "6\n",
            "4\n",
            "2\n",
            "It works!\n"
          ]
        }
      ]
    },
    {
      "cell_type": "markdown",
      "source": [
        "8. Напишіть програму, яка виведе на екран непарні числа в діапазоні від 0 до 20 включно."
      ],
      "metadata": {
        "id": "x2CmfZO-7pW0"
      }
    },
    {
      "cell_type": "code",
      "source": [
        "b = 0\n",
        "while b <= 20:\n",
        "   if b % 2 != 0:\n",
        "       print(b)\n",
        "   b += 1"
      ],
      "metadata": {
        "id": "aCSRYA6s7tkF",
        "colab": {
          "base_uri": "https://localhost:8080/"
        },
        "outputId": "f51b709a-4a1a-4b28-bfc1-1f2941d3c137"
      },
      "execution_count": null,
      "outputs": [
        {
          "output_type": "stream",
          "name": "stdout",
          "text": [
            "1\n",
            "3\n",
            "5\n",
            "7\n",
            "9\n",
            "11\n",
            "13\n",
            "15\n",
            "17\n",
            "19\n"
          ]
        }
      ]
    },
    {
      "cell_type": "markdown",
      "source": [
        "9. Створіть список з елементами булевого типу або None. Використовуючи цикли, отримайте в результаті список з кортежами, де перший елемент кортежу - індекс(ціле число), а другий елемент - відповідне значення з першого списку.\n",
        "\n",
        "Наприклад, [True, True, None, False] -> [(0, True), (1, True), (2, None), (3, False)]"
      ],
      "metadata": {
        "id": "MDWNocZD7t_B"
      }
    },
    {
      "cell_type": "code",
      "source": [
        "list_bool = [ True, False, True, None, False ]\n",
        "list_res = []\n",
        "for index in range(len(list_bool)):\n",
        "    value = list_bool[index]\n",
        "    list_res.append((index, value))\n",
        "print(list_res)"
      ],
      "metadata": {
        "id": "0EUyjMdp7yfh",
        "colab": {
          "base_uri": "https://localhost:8080/"
        },
        "outputId": "ee6bc71f-635b-4d6d-cdaf-014f0a20fe13"
      },
      "execution_count": 27,
      "outputs": [
        {
          "output_type": "stream",
          "name": "stdout",
          "text": [
            "[(0, True), (1, False), (2, True), (3, None), (4, False)]\n"
          ]
        }
      ]
    },
    {
      "cell_type": "markdown",
      "source": [
        "10. Створіть словник, де ключі - назви книжок, а значення - їхня кількість у наявності в Вашій міні-бібліотеці. Бібліотека має містити щонайменше 6 книжок (6 пар значень у словнику) і щонайбільше 10 (пар значень). Використовуючи цикли, оновіть словник (не створюйте новий) так, щоби кількість книг у наявності збільшилося на 5 кожної книги. Наприклад,\n",
        "{'It': 3, 'Fault stars': 10, 'Bible': 17, 'Psychological romance': 4, 'Harry Potter': 13} -> {'It': 8, 'Fault stars': 15, 'Bible': 22, 'Psychological romance': 9, 'Harry Potter': 18}"
      ],
      "metadata": {
        "id": "-6XUqlcG7zKs"
      }
    },
    {
      "cell_type": "code",
      "source": [
        "my_library = {'Dune': 6,\n",
        "           '1984': 16,\n",
        "           'The Hobbit': 10,\n",
        "           'The Silent Patient': 12,\n",
        "           'The Odyssey': 11,\n",
        "           'Pride and Prejudice': 8,\n",
        "           'Brave New World': 6,\n",
        "           'Emma': 4}\n",
        "print(my_library)\n",
        "for book in my_library:\n",
        "    my_library[book] +=5\n",
        "print(my_library)"
      ],
      "metadata": {
        "id": "Ceoj9wwb791q",
        "colab": {
          "base_uri": "https://localhost:8080/"
        },
        "outputId": "f0592f0c-d8f5-498d-bd06-15ef59d2b8c1"
      },
      "execution_count": 13,
      "outputs": [
        {
          "output_type": "stream",
          "name": "stdout",
          "text": [
            "{'Dune': 6, '1984': 16, 'The Hobbit': 10, 'The Silent Patient': 12, 'The Odyssey': 11, 'Pride and Prejudice': 8, 'Brave New World': 6, 'Emma': 4}\n",
            "{'Dune': 11, '1984': 21, 'The Hobbit': 15, 'The Silent Patient': 17, 'The Odyssey': 16, 'Pride and Prejudice': 13, 'Brave New World': 11, 'Emma': 9}\n"
          ]
        }
      ]
    },
    {
      "cell_type": "markdown",
      "source": [
        "11. Визначте цілочислену змінну n, що належить проміжку від 4 до 10 включно. Використовуючи цикли, виведіть в консоль наступний патерн.\n",
        "\n",
        "#\n",
        "##\n",
        "###\n",
        "####\n",
        "\n",
        "... #*n\n"
      ],
      "metadata": {
        "id": "QLzyJM288AC7"
      }
    },
    {
      "cell_type": "code",
      "source": [
        "n = 8\n",
        "for n in range(1, n+1):\n",
        "    print(\"#\"*n, \"\\n\")"
      ],
      "metadata": {
        "id": "KOpng87s8Duz",
        "colab": {
          "base_uri": "https://localhost:8080/"
        },
        "outputId": "38266c5c-ea26-46c7-ed2a-009d0dcb6561"
      },
      "execution_count": 12,
      "outputs": [
        {
          "output_type": "stream",
          "name": "stdout",
          "text": [
            "# \n",
            "\n",
            "## \n",
            "\n",
            "### \n",
            "\n",
            "#### \n",
            "\n",
            "##### \n",
            "\n",
            "###### \n",
            "\n",
            "####### \n",
            "\n",
            "######## \n",
            "\n"
          ]
        }
      ]
    },
    {
      "cell_type": "markdown",
      "source": [
        "12. Гра \"Нумо вгадай\".\n",
        "Розробіть просту гру, де користувач має вгадати випадкове число від 1 до 100. Для генерації випадкового числа використовуйте функцію random.randint(a, b) (тут a та b включно). Для отримання числа з консолі використовуйте функцію input(), результат якої обовʼязково явно приведіть до типу int.\n",
        "\n",
        "Підказка: використовуйте цикл while та умови if-else, щоб повідомити користувачу піказки (напр. \"Більше\", \"Менше\") поки користувач не вгадає. По завершенню виведіть кількість спроб, які знадобилися для вгадування."
      ],
      "metadata": {
        "id": "_bd-bqAT8EHn"
      }
    },
    {
      "cell_type": "code",
      "source": [
        "import random\n",
        "counter = 0\n",
        "a = random.randint(1, 100)\n",
        "print(\"Guess the number between 1 and 100\")\n",
        "while a!=number:\n",
        "    number = int(input(\"Your number: \"))\n",
        "    counter+=1\n",
        "    if number > 100 or number < 0:\n",
        "        print(\"Number should be between 1 and 100\")\n",
        "    else:\n",
        "        if a == number:\n",
        "            print(f\"Congratulations! You guessed the number {number} in {counter} attempts.\")\n",
        "            break\n",
        "        elif number < a:\n",
        "            print(\"Higher. Try again.\")\n",
        "        else:\n",
        "            print(\"Lower. Try again.\")"
      ],
      "metadata": {
        "id": "IK9nnxFK8Hkl",
        "colab": {
          "base_uri": "https://localhost:8080/"
        },
        "outputId": "718d978d-cc83-4b0f-fac6-78497725f0e1"
      },
      "execution_count": 30,
      "outputs": [
        {
          "output_type": "stream",
          "name": "stdout",
          "text": [
            "Guess the number between 1 and 100\n",
            "Your number: 56\n",
            "Higher. Try again.\n",
            "Your number: 70\n",
            "Higher. Try again.\n",
            "Your number: 80\n",
            "Higher. Try again.\n",
            "Your number: 90\n",
            "Lower. Try again.\n",
            "Your number: 89\n",
            "Lower. Try again.\n",
            "Your number: 87\n",
            "Higher. Try again.\n",
            "Your number: 88\n",
            "Congratulations! You guessed the number 88 in 7 attempts.\n"
          ]
        }
      ]
    },
    {
      "cell_type": "markdown",
      "source": [
        "# Вітаю! Ви велика(ий) молодець, що впоралась(вся). Похваліть себе та побалуйте чимось приємним. Я Вами пишаюся."
      ],
      "metadata": {
        "id": "PXoXWb7Z8IGi"
      }
    }
  ]
}