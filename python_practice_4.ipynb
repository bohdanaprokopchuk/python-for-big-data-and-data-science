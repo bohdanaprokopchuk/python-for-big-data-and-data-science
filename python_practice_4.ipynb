{
 "nbformat": 4,
 "nbformat_minor": 0,
 "metadata": {
  "colab": {
   "provenance": []
  },
  "kernelspec": {
   "name": "python3",
   "display_name": "Python 3"
  },
  "language_info": {
   "name": "python"
  }
 },
 "cells": [
  {
   "cell_type": "markdown",
   "source": [
    "# I. Functions. Arguments."
   ],
   "metadata": {
    "id": "kXpppdVm6wFy"
   }
  },
  {
   "cell_type": "markdown",
   "source": [
    "1. (5б) Назвіть основні 4 смислові  частини, з яких складається функція.\n",
    "\n"
   ],
   "metadata": {
    "id": "u_krJdlbAkVz"
   }
  },
  {
   "cell_type": "markdown",
   "source": [
    "---Назва функції, аргументи(параметри), тіло функції, return."
   ],
   "metadata": {
    "id": "KKTrTXmHAptb"
   }
  },
  {
   "cell_type": "markdown",
   "source": [
    "2. (3б) Визначте функцію, що приймає 2 аргументи та повертає результат ділення 1го аргумента на інший."
   ],
   "metadata": {
    "id": "ORM4PqJQAtDM"
   }
  },
  {
   "cell_type": "code",
   "execution_count": 7,
   "metadata": {
    "id": "EuDx-z8M6sLo",
    "colab": {
     "base_uri": "https://localhost:8080/"
    },
    "outputId": "c36b9e9a-1c6f-4eff-a1a6-cd16d1897ccc"
   },
   "outputs": [
    {
     "output_type": "stream",
     "name": "stdout",
     "text": [
      "5.0\n",
      "4.0\n"
     ]
    }
   ],
   "source": [
    "a = 50\n",
    "b = 10\n",
    "\n",
    "def division(a, b):\n",
    "    return a / b\n",
    "\n",
    "result_1 = division(a, b)\n",
    "print(result_1)\n",
    "result_2 = division(48, 12)\n",
    "print(result_2)\n"
   ]
  },
  {
   "cell_type": "markdown",
   "source": [
    "3. (2б) Викличте вище визначену функцію, де другий аргумент дорівнює 0."
   ],
   "metadata": {
    "id": "5joQGQ-SAyMe"
   }
  },
  {
   "cell_type": "code",
   "source": [
    "result_3 = division(25, 0)\n",
    "print(result_3)"
   ],
   "metadata": {
    "id": "V5cBV1LOA3d-",
    "colab": {
     "base_uri": "https://localhost:8080/",
     "height": 280
    },
    "outputId": "438b118e-c732-43f9-ec16-2f0608fe4584"
   },
   "execution_count": 6,
   "outputs": [
    {
     "output_type": "error",
     "ename": "ZeroDivisionError",
     "evalue": "division by zero",
     "traceback": [
      "\u001B[0;31m---------------------------------------------------------------------------\u001B[0m",
      "\u001B[0;31mZeroDivisionError\u001B[0m                         Traceback (most recent call last)",
      "\u001B[0;32m<ipython-input-6-02ba7aa229ae>\u001B[0m in \u001B[0;36m<cell line: 1>\u001B[0;34m()\u001B[0m\n\u001B[0;32m----> 1\u001B[0;31m \u001B[0mresult_3\u001B[0m \u001B[0;34m=\u001B[0m \u001B[0mdivision\u001B[0m\u001B[0;34m(\u001B[0m\u001B[0;36m25\u001B[0m\u001B[0;34m,\u001B[0m \u001B[0;36m0\u001B[0m\u001B[0;34m)\u001B[0m\u001B[0;34m\u001B[0m\u001B[0;34m\u001B[0m\u001B[0m\n\u001B[0m\u001B[1;32m      2\u001B[0m \u001B[0mprint\u001B[0m\u001B[0;34m(\u001B[0m\u001B[0mresult_3\u001B[0m\u001B[0;34m)\u001B[0m\u001B[0;34m\u001B[0m\u001B[0;34m\u001B[0m\u001B[0m\n",
      "\u001B[0;32m<ipython-input-4-df5e423bbe92>\u001B[0m in \u001B[0;36mdivision\u001B[0;34m(a, b)\u001B[0m\n\u001B[1;32m      3\u001B[0m \u001B[0;34m\u001B[0m\u001B[0m\n\u001B[1;32m      4\u001B[0m \u001B[0;32mdef\u001B[0m \u001B[0mdivision\u001B[0m\u001B[0;34m(\u001B[0m\u001B[0ma\u001B[0m\u001B[0;34m,\u001B[0m \u001B[0mb\u001B[0m\u001B[0;34m)\u001B[0m\u001B[0;34m:\u001B[0m\u001B[0;34m\u001B[0m\u001B[0;34m\u001B[0m\u001B[0m\n\u001B[0;32m----> 5\u001B[0;31m     \u001B[0;32mreturn\u001B[0m \u001B[0ma\u001B[0m \u001B[0;34m/\u001B[0m \u001B[0mb\u001B[0m\u001B[0;34m\u001B[0m\u001B[0;34m\u001B[0m\u001B[0m\n\u001B[0m\u001B[1;32m      6\u001B[0m \u001B[0;34m\u001B[0m\u001B[0m\n\u001B[1;32m      7\u001B[0m \u001B[0mresult_1\u001B[0m \u001B[0;34m=\u001B[0m \u001B[0mdivision\u001B[0m\u001B[0;34m(\u001B[0m\u001B[0ma\u001B[0m\u001B[0;34m,\u001B[0m \u001B[0mb\u001B[0m\u001B[0;34m)\u001B[0m\u001B[0;34m\u001B[0m\u001B[0;34m\u001B[0m\u001B[0m\n",
      "\u001B[0;31mZeroDivisionError\u001B[0m: division by zero"
     ]
    }
   ]
  },
  {
   "cell_type": "markdown",
   "source": [
    "4. (4б) Перевизначте функцію так, щоби у випадку ділення на 0 функція повертала None, а в решті випадків - результат розрахунків."
   ],
   "metadata": {
    "id": "QyimWgW8A43-"
   }
  },
  {
   "cell_type": "code",
   "source": [
    "\n",
    "def division(a, b):\n",
    "    if b == 0:\n",
    "        return None\n",
    "    return a / b\n",
    "\n",
    "result_4 = division(81, 9)\n",
    "print(result_4)\n",
    "result_5 = division(67, 0)\n",
    "print(result_5)\n"
   ],
   "metadata": {
    "id": "7VIODtSjA8Ek",
    "colab": {
     "base_uri": "https://localhost:8080/"
    },
    "outputId": "e2c80506-ea81-473a-8714-9e02b2e9e013"
   },
   "execution_count": 10,
   "outputs": [
    {
     "output_type": "stream",
     "name": "stdout",
     "text": [
      "9.0\n",
      "None\n"
     ]
    }
   ]
  },
  {
   "cell_type": "markdown",
   "source": [
    "5. (5б) Визначте функцію, що віднімає одне число від іншого (підказка: це буде 2 аргументи функції). При чому, якщо не визначити, скільки саме має бути віднято від числа, за замовчуванням має відніматися 1. Викличте функцію, передаючи тільки один аргумент."
   ],
   "metadata": {
    "id": "Y8mN0GfkA81l"
   }
  },
  {
   "cell_type": "code",
   "source": [
    "def difference(x, y = 1):\n",
    "    return x-y\n",
    "\n",
    "res = difference(12)\n",
    "print(res)\n"
   ],
   "metadata": {
    "id": "vg1kxkdgBA50",
    "colab": {
     "base_uri": "https://localhost:8080/"
    },
    "outputId": "f50a80f9-2c5c-47f3-94da-d7b97dd9c765"
   },
   "execution_count": 12,
   "outputs": [
    {
     "output_type": "stream",
     "name": "stdout",
     "text": [
      "11\n"
     ]
    }
   ]
  },
  {
   "cell_type": "markdown",
   "source": [
    "6. (7б) Визначте функцію, яка приймає iterable (ітерабельний обʼєкт, напр. список), що складається з 7ми рядкових значень - назв погодних умов (напр. \"sunny\") за кожен день у тижні. Повертає функція словник, де ключами є рядки з погодними умовами, а значеннями - кількість разів, скільки дана погода була протягом тижня (напр. {'sunny': 1, ...}). Викличте цю функцію та виведіть результат її роботи на екран."
   ],
   "metadata": {
    "id": "D3mwQGNOBBs4"
   }
  },
  {
   "cell_type": "code",
   "source": [
    "week_weather = [\"windy\", \"cloudy\", \"rainy\", \"sunny\", \"windy\", \"sunny\", \"cloudy\"]\n",
    "weather_dict = {}\n",
    "\n",
    "def weather_count(week_weather):\n",
    "    for weather in week_weather:\n",
    "        if weather in weather_dict:\n",
    "            weather_dict[weather] += 1\n",
    "        else:\n",
    "            weather_dict[weather] = 1\n",
    "    return weather_dict\n",
    "\n",
    "weather_result = weather_count(week_weather)\n",
    "print(weather_result)"
   ],
   "metadata": {
    "id": "OsWm-hKcBFyn",
    "colab": {
     "base_uri": "https://localhost:8080/"
    },
    "outputId": "f712f7cd-06e5-4197-82b1-60e23a17aaea"
   },
   "execution_count": 6,
   "outputs": [
    {
     "output_type": "stream",
     "name": "stdout",
     "text": [
      "{'windy': 2, 'cloudy': 2, 'rainy': 1, 'sunny': 2}\n"
     ]
    }
   ]
  },
  {
   "cell_type": "markdown",
   "source": [
    "7. (15б) Напишіть програму, яка б шукала необхідне число у впорядкованому списку цілочислених значень, де\n",
    "число має вводитись з консолі.\n",
    "власне алгоритм пошуку винесений в окрему функцію, яка повертає булеве значення (знайдено число - True, не знайдено - False).\n",
    "в залежності від результату функції, виведіть на екран повідомлення про успішний або ж неуспішний пошук.\n",
    "Зауваження: використовувати оператор in заборонено."
   ],
   "metadata": {
    "id": "RMiCcdOsBKQT"
   }
  },
  {
   "cell_type": "code",
   "source": [
    "list_of_numbers = [1, 2, 4, 5, 8, 10, 11, 14, 17, 23, 48, 100, 111, 345, 678]\n",
    "\n",
    "def search_algorithm(list_of_numbers, c):\n",
    "    i = 0\n",
    "    while i < len(list_of_numbers):\n",
    "        if list_of_numbers[i] == c:\n",
    "            print(f\"The number {c} is in the list.\")\n",
    "            return True\n",
    "        else:\n",
    "            i +=1\n",
    "    print(f\"The number {c} isn`t in the list.\")\n",
    "    return False\n",
    "\n",
    "c = int(input(\"Enter the number to search: \"))\n",
    "search_result_1 = search_algorithm(list_of_numbers, c)\n",
    "print(search_result_1)\n",
    "\n",
    "c1 = int(input(\"Enter another number to search: \"))\n",
    "search_result_2 = search_algorithm(list_of_numbers, c1)\n",
    "print(search_result_2)\n"
   ],
   "metadata": {
    "id": "UNCZg65OBOy-",
    "colab": {
     "base_uri": "https://localhost:8080/"
    },
    "outputId": "36136392-42a9-4709-f8b9-2958be66c457"
   },
   "execution_count": 21,
   "outputs": [
    {
     "output_type": "stream",
     "name": "stdout",
     "text": [
      "Enter the number to search: 678\n",
      "The number 678 is in the list.\n",
      "True\n",
      "Enter another number to search: 333\n",
      "The number 333 isn`t in the list.\n",
      "False\n"
     ]
    }
   ]
  },
  {
   "cell_type": "markdown",
   "source": [
    "# II. Lambda functions."
   ],
   "metadata": {
    "id": "Ae1n_OvLBTsy"
   }
  },
  {
   "cell_type": "markdown",
   "source": [
    "8. (4б) В яких випадках варто використовувати лямбда-функції?"
   ],
   "metadata": {
    "id": "xaD_wSlaCWen"
   }
  },
  {
   "cell_type": "markdown",
   "source": [
    "--Коли потрібно передати функцію як аргумент іншій функції.\n",
    "\n",
    "--Якщо функція вкладається в один вираз, лямбда може бути ефективнішою.\n",
    "\n",
    "--Якщо функція використовується лише олин раз."
   ],
   "metadata": {
    "id": "42MB6OoLCakR"
   }
  },
  {
   "cell_type": "markdown",
   "source": [
    "9. (9б) Визначте список з рядками. Після цього визначте анонімну функцію для отримання першого символу у верхньому регістрі для кожного рядка списку.\n",
    "Підказка: використовуйте анонімну функцію в якості агрумента до вбудованої ф-ції, яка створена для застосування функцій над iterable обʼєктами. Результат виведіть на екран у вигляді кортежу."
   ],
   "metadata": {
    "id": "USrzrk7GCedk"
   }
  },
  {
   "cell_type": "code",
   "source": [
    "string_list = [\"abb\", \"kbc\", \"lbd\", \"ccc\", \"sdc\", \"vdf\"]\n",
    "\n",
    "upper_first_char = lambda string_list: string_list[0].upper()\n",
    "\n",
    "result_tuple = tuple(map(upper_first_char, string_list))\n",
    "print(result_tuple)"
   ],
   "metadata": {
    "id": "M8QWUsMlCjWH",
    "colab": {
     "base_uri": "https://localhost:8080/"
    },
    "outputId": "04571666-a640-4dbd-9613-9c48ab11a06c"
   },
   "execution_count": 42,
   "outputs": [
    {
     "output_type": "stream",
     "name": "stdout",
     "text": [
      "('A', 'K', 'L', 'C', 'S', 'V')\n"
     ]
    }
   ]
  },
  {
   "cell_type": "markdown",
   "source": [
    "10. (10б) Визначте список з числовими значеннями (і цілими, і з рухомою комою). а) Відфільтруйте всі числа, які діляться націло на 3 за допомогою вбудованої функції та анонімної функції в якості аргумента). Збережіть результат у змінній, не приводяти явно до будь-якого типу. б) Використовуючи результат на кроці 12.а у якості аргументу, та за допомогою лямбда-функції в якості іншого аргументу до вбудованої функції, додайте до кожного елементу число 1 та опісля зведіть у квадрат. Остаточний результат приведіть явно до списку та виведіть на екран."
   ],
   "metadata": {
    "id": "9fyUhXOoCtGp"
   }
  },
  {
   "cell_type": "code",
   "source": [
    "numbers_list = [1.54, 0.3, 3, 4, 56, 6, 78, 899, 9.002, 10, 33]\n",
    "divisible_three = filter(lambda p: (p % 3 == 0), numbers_list)\n",
    "new_numbers_list = list(map(lambda v: (v + 1) ** 2, divisible_three))\n",
    "print(new_numbers_list)\n",
    "\n"
   ],
   "metadata": {
    "id": "exEx2_okCsql",
    "colab": {
     "base_uri": "https://localhost:8080/"
    },
    "outputId": "0d61e3fc-caad-4459-b2a4-3947108a124e"
   },
   "execution_count": 3,
   "outputs": [
    {
     "output_type": "stream",
     "name": "stdout",
     "text": [
      "[16, 49, 6241, 1156]\n"
     ]
    }
   ]
  },
  {
   "cell_type": "markdown",
   "source": [
    "# III. Decorators."
   ],
   "metadata": {
    "id": "o_x8cG_WC7jp"
   }
  },
  {
   "cell_type": "markdown",
   "source": [
    "11. (11б) Визначте декоратор, який би виводив у консоль повідомлення про початок роботи і назву функції (напр. my_function._ _ name _ _), а після відпрацювання функції - повідомлення про закінчення роботи і назву функції, що задекорована."
   ],
   "metadata": {
    "id": "mhxS4-mfC8LQ"
   }
  },
  {
   "cell_type": "code",
   "source": [
    "def my_decorator(func):\n",
    "    def wrapper(*args, **kwargs):\n",
    "        print(f\"Start of function {func.__name__}\")\n",
    "        result = func(*args, **kwargs)\n",
    "        print(f\"End of function {func.__name__}\")\n",
    "        return result\n",
    "    return wrapper\n",
    "\n",
    "@my_decorator\n",
    "def multiplication(n, m):\n",
    "    return m * n\n",
    "\n",
    "result_multiplication = multiplication(11, 4)\n",
    "print(\"Function result:\", result_multiplication)"
   ],
   "metadata": {
    "id": "srd1ygWjDGhO",
    "colab": {
     "base_uri": "https://localhost:8080/"
    },
    "outputId": "47c324ea-86f9-474a-ec5c-357ffc9a6d3f"
   },
   "execution_count": 5,
   "outputs": [
    {
     "output_type": "stream",
     "name": "stdout",
     "text": [
      "Start of function multiplication\n",
      "End of function multiplication\n",
      "Function result: 44\n"
     ]
    }
   ]
  },
  {
   "cell_type": "markdown",
   "source": [
    "12. (4б) Задекоруйте двома різними способами функції з завдання 4 та 5 декоратором із завдання 11. (**УВАГА**: не декоруйте функції двічі!)."
   ],
   "metadata": {
    "id": "rxGZwVBiDph3"
   }
  },
  {
   "cell_type": "code",
   "source": [
    "@my_decorator\n",
    "def division(a, b):\n",
    "    if b == 0:\n",
    "        return None\n",
    "    return a / b\n",
    "\n",
    "def difference(x, y = 1):\n",
    "    return x-y\n",
    "\n",
    "difference = my_decorator(difference)"
   ],
   "metadata": {
    "id": "06lj7eq_DwZe"
   },
   "execution_count": 9,
   "outputs": []
  },
  {
   "cell_type": "markdown",
   "source": [
    "13. (2б) Викличте одну з задекорованих функцій і виведіть її результат на екран."
   ],
   "metadata": {
    "id": "P0ep1urBDzf-"
   }
  },
  {
   "cell_type": "code",
   "source": [
    "res_difference = difference(56)\n",
    "print(res_difference)"
   ],
   "metadata": {
    "id": "1QvTw0ctD0S3",
    "colab": {
     "base_uri": "https://localhost:8080/"
    },
    "outputId": "067a9429-f668-4b5a-b3ee-3223e695369e"
   },
   "execution_count": 10,
   "outputs": [
    {
     "output_type": "stream",
     "name": "stdout",
     "text": [
      "Start of function difference\n",
      "End of function difference\n",
      "55\n"
     ]
    }
   ]
  },
  {
   "cell_type": "markdown",
   "source": [
    "# IV. Recursion."
   ],
   "metadata": {
    "id": "poECCpuoD2S9"
   }
  },
  {
   "cell_type": "markdown",
   "source": [
    "14. (4б) Назвіть дві частини функції, які є обовʼязковими для того, щоб називати її рекурсивною."
   ],
   "metadata": {
    "id": "DqkURfdsD7MY"
   }
  },
  {
   "cell_type": "markdown",
   "source": [
    "1) Умова зупину (стандартний випадок)\n",
    "\n",
    "2) Рукурсивний виклик"
   ],
   "metadata": {
    "id": "HYW6ttIeIQIU"
   }
  },
  {
   "cell_type": "markdown",
   "source": [
    "15. (15б) Визначте функцію, яка рекурсивно реалізовує пошук числа у послідовності Фібоначчі за її індексом (нумерація починається з нуля). Наприклад, потрібно знайти перше число у послідовності, тоді функція прийматиме 0 у якості аргумента і повертатиме 1, якщо ж знаходити третє число (індекс 2) послідовності, то функція повертатиме 2, якщо ж знаходити десяте число (індекс 9), то функція повертатиме 55."
   ],
   "metadata": {
    "id": "WYVt20UmEA35"
   }
  },
  {
   "cell_type": "code",
   "source": [
    "def fibonacci(h):\n",
    "    if h == 0 or h == 1:\n",
    "        return 1\n",
    "    else:\n",
    "        return fibonacci(h - 1) + fibonacci(h - 2)\n",
    "\n",
    "h1 = 0\n",
    "result_fibonacci = fibonacci(h1)\n",
    "print(f\"Fibonacci[{h1}] = {result_fibonacci}\")\n",
    "h2 = 2\n",
    "result_fibonacci = fibonacci(h2)\n",
    "print(f\"Fibonacci[{h2}] = {result_fibonacci}\")\n",
    "h3 = 5\n",
    "result_fibonacci = fibonacci(h3)\n",
    "print(f\"Fibonacci[{h3}] = {result_fibonacci}\")\n",
    "h4 = 9\n",
    "result_fibonacci = fibonacci(h4)\n",
    "print(f\"Fibonacci[{h4}] = {result_fibonacci}\")\n",
    "\n"
   ],
   "metadata": {
    "id": "xIMhp05AIpV_",
    "colab": {
     "base_uri": "https://localhost:8080/"
    },
    "outputId": "6f380598-32a0-4f8b-ffc7-9c770955ebe6"
   },
   "execution_count": 19,
   "outputs": [
    {
     "output_type": "stream",
     "name": "stdout",
     "text": [
      "Fibonacci[0] = 1\n",
      "Fibonacci[2] = 2\n",
      "Fibonacci[5] = 8\n",
      "Fibonacci[9] = 55\n"
     ]
    }
   ]
  },
  {
   "cell_type": "markdown",
   "source": [
    "# Вітаю! Ви велика(ий) молодець, що впоралась(вся). Похваліть себе та побалуйте чимось приємним. Я Вами пишаюся."
   ],
   "metadata": {
    "id": "ytXC8n_4Ip0W"
   }
  }
 ]
}
