{
 "nbformat": 4,
 "nbformat_minor": 0,
 "metadata": {
  "colab": {
   "provenance": []
  },
  "kernelspec": {
   "name": "python3",
   "display_name": "Python 3"
  },
  "language_info": {
   "name": "python"
  }
 },
 "cells": [
  {
   "cell_type": "markdown",
   "source": [
    "# I. OOP"
   ],
   "metadata": {
    "id": "5qV_sehzFCTp"
   }
  },
  {
   "cell_type": "markdown",
   "source": [
    "1. (6б). Створіть клас Animal, додайте три атрибути, один з яких має значення за замовчуванням та два методи на свій розсуд."
   ],
   "metadata": {
    "id": "tx_U_hOALyfg"
   }
  },
  {
   "cell_type": "code",
   "source": [
    "class Animal():\n",
    "    def __init__(self, age, kind, habitat = \"forest\"):\n",
    "        self.age = age\n",
    "        self.kind = kind\n",
    "        self.habitat = habitat\n",
    "\n",
    "    def get_information_of_animal(self):\n",
    "        return f\"kind of animal: {self.kind}, age: {self.age}, habitat: {self.habitat}\"\n",
    "\n",
    "    def speak(self, sound):\n",
    "        return f\"{self.name} says {sound}\"\n"
   ],
   "metadata": {
    "id": "-Vf895KaL88N"
   },
   "execution_count": 65,
   "outputs": []
  },
  {
   "cell_type": "markdown",
   "source": [
    "2. (2б). Створіть два обʼєкти цього класу, де один з обʼєктів створюється із дефолтним значенням атрибуту. На одному обʼєкті отримайте значення його атрибуту, а на іншому викличте один з його методів."
   ],
   "metadata": {
    "id": "X_UlOMB0L93w"
   }
  },
  {
   "cell_type": "code",
   "source": [
    "animal_1 = Animal(1, \"fox\")\n",
    "print(\"Habitat of the first animal: \"+ animal_1.habitat)\n",
    "print(\"=\"*40)\n",
    "animal_2 = Animal(2, \"shark\", habitat = \"ocean\")\n",
    "print(\"Information about the second animal: \" + animal_2.get_information_of_animal())\n"
   ],
   "metadata": {
    "id": "7gBu0ESOMCpG",
    "colab": {
     "base_uri": "https://localhost:8080/"
    },
    "outputId": "0b45edf7-8368-40d9-8e9d-4b7b2daedc9c"
   },
   "execution_count": 13,
   "outputs": [
    {
     "output_type": "stream",
     "name": "stdout",
     "text": [
      "Habitat of the first animal: forest\n",
      "========================================\n",
      "Information about the second animal: kind of animal: shark, age: 2, habitat: ocean\n"
     ]
    }
   ]
  },
  {
   "cell_type": "markdown",
   "source": [
    "3. (5б). Створіть клас, де атрибути мають різні рівні доступу. Спробуйте отримати їхні значення та опишіть результати."
   ],
   "metadata": {
    "id": "HoqSCZt1MHn5"
   }
  },
  {
   "cell_type": "code",
   "source": [
    "class Movies():\n",
    "    def __init__(self, name, directors, year):\n",
    "        self._name = name\n",
    "        self.__directors = directors\n",
    "        self.year = year\n",
    "\n",
    "    def get_name(self):\n",
    "        return self._name\n",
    "\n",
    "    def set_name(self, value):\n",
    "        self._name = value\n",
    "\n",
    "movie_1 = Movies(\"Spider-Man: Into the Spider-Verse\", \"Bob Persichetti, Peter Ramsey, Rodney Rothman\", 2018)\n",
    "print(\"Movie name:\", movie_1.get_name())\n",
    "print(\"Movie directors:\", movie_1._Movies__directors)\n",
    "print(\"Year:\", movie_1.year)\n"
   ],
   "metadata": {
    "id": "r9b3vJxBMSPV",
    "colab": {
     "base_uri": "https://localhost:8080/"
    },
    "outputId": "14c50759-ceea-4f69-c5e8-4b78290bbd1f"
   },
   "execution_count": 205,
   "outputs": [
    {
     "output_type": "stream",
     "name": "stdout",
     "text": [
      "Movie name: Spider-Man: Into the Spider-Verse\n",
      "Movie directors: Bob Persichetti, Peter Ramsey, Rodney Rothman\n",
      "Year: 2018\n"
     ]
    }
   ]
  },
  {
   "cell_type": "markdown",
   "source": [
    "Публічний атрибут: year доступний для прямого доступу та зміни ззовні класу.\n",
    "\n",
    "Захищений атрибут: _name доступний лише в межах класу та його підкласів (умовно дозволяє отримати до нього дозвіл, аде краще так не робити). Для отримання доступу можна використати методи get та set.\n",
    "\n",
    "Приватний атрибут: __directors доступний лише в межах класу. Прямий доступ до нього ззовні класу заборонено, тому для отримання доступу можна прописати клас, в якому визначений цей атрибут (movie_1.___Movies__directors)"
   ],
   "metadata": {
    "id": "jSOjkdgPPMRn"
   }
  },
  {
   "cell_type": "markdown",
   "source": [],
   "metadata": {
    "id": "PIAjfjeBO7UP"
   }
  },
  {
   "cell_type": "markdown",
   "source": [
    "4. (7б). Як ви розумієте термін self? Для чого використовується метод __init __?"
   ],
   "metadata": {
    "id": "5op2m2vgMSkZ"
   }
  },
  {
   "cell_type": "markdown",
   "source": [
    "\n",
    "Self - це посилання на сам екземпляр класу, який викликає метод (використовується в методах класів для доступу до атрибутів та методів екземпляра класу).\n",
    "\n",
    "Метод init - це спеціальний метод, який викликається при створенні нового екземпляра класу (використовується для ініціалізації атрибутів класу)."
   ],
   "metadata": {
    "id": "DyiPqNRvMasx"
   }
  },
  {
   "cell_type": "markdown",
   "source": [
    "5. (9б). Створіть клас Фігура без атрибутів, з методом get_area для отримання площі фігури, що повертає 0 та __add __, який приймає self та other в якості аргументів, а повертає суму площин фігур self та other."
   ],
   "metadata": {
    "id": "-6X8EGfjMd2y"
   }
  },
  {
   "cell_type": "code",
   "source": [
    "class Figure():\n",
    "    def __init__(self):\n",
    "         pass\n",
    "\n",
    "    def get_area(self):\n",
    "        return 0;\n",
    "\n",
    "    def __add__(self, other):\n",
    "        return self.get_area() + other.get_area()\n",
    "\n",
    "figure_1 = Figure()\n",
    "figure_2 = Figure()\n",
    "\n",
    "print(f\"Total area: {figure_1 + figure_2}\")\n",
    "\n",
    "\n",
    "\n"
   ],
   "metadata": {
    "id": "4rvO_wYUMaEr",
    "colab": {
     "base_uri": "https://localhost:8080/"
    },
    "outputId": "a302e309-bd18-43ba-bed1-7b8388271562"
   },
   "execution_count": 80,
   "outputs": [
    {
     "output_type": "stream",
     "name": "stdout",
     "text": [
      "Total area: 0\n"
     ]
    }
   ]
  },
  {
   "cell_type": "markdown",
   "source": [
    "6. (11б). Створіть 2 дочірніх класи від Фігури: Трикутник та Коло, які мають атрибути, необхідні для розрахунку площин. Визначте метод get_area в кожному з них так, щоби вони розраховували площу в залежності від формули для кожного типу фігури. Створіть обʼєкт класу Трикутник та обʼєкт класу Коло. Виконайте операцію суми за допомогою оператора + між ними."
   ],
   "metadata": {
    "id": "SFcKnnv5Mo_z"
   }
  },
  {
   "cell_type": "code",
   "source": [
    "import math\n",
    "\n",
    "class Triangle(Figure):\n",
    "    def __init__(self, side_a, height_ha):\n",
    "        super().__init__()\n",
    "        self.side_a = side_a\n",
    "        self.height_ha = height_ha\n",
    "\n",
    "    def get_area(self):\n",
    "      return 1/2 * (self.side_a * self.height_ha)\n",
    "\n",
    "class Circle(Figure):\n",
    "    def __init__(self, radius):\n",
    "        super().__init__()\n",
    "        self.radius = radius\n",
    "\n",
    "    def get_area(self):\n",
    "      return math.pi * self.radius ** 2\n",
    "\n",
    "triangle_1 = Triangle(12, 6)\n",
    "print(f\"area of triangle = {triangle_1.get_area()}\")\n",
    "circle_1 = Circle(6)\n",
    "print(f\"area of circle = {circle_1.get_area()}\")\n",
    "print(f\"Total area (triangle + circle): {triangle_1 + circle_1}\")\n",
    "\n"
   ],
   "metadata": {
    "id": "H3GVNr69Muf3",
    "colab": {
     "base_uri": "https://localhost:8080/"
    },
    "outputId": "5a086089-2860-449b-b2e8-086748b52acd"
   },
   "execution_count": 87,
   "outputs": [
    {
     "output_type": "stream",
     "name": "stdout",
     "text": [
      "area of triangle = 36.0\n",
      "area of circle = 113.09733552923255\n",
      "Total area (triangle + circle): 149.09733552923257\n"
     ]
    }
   ]
  },
  {
   "cell_type": "markdown",
   "source": [
    "7. (3б). Продемонструйте різницю між isinstance та issubclass."
   ],
   "metadata": {
    "id": "HCvR206YMvLK"
   }
  },
  {
   "cell_type": "code",
   "source": [
    "class Plants():\n",
    "    def __init__(self, kind, colour, conditions):\n",
    "        self.kind = kind\n",
    "        self.colour = colour\n",
    "        self.conditions = conditions\n",
    "        pass\n",
    "\n",
    "class Flowers(Plants):\n",
    "    def __init__(self, kind, colour, conditions):\n",
    "        super().__init__(kind, colour, conditions)\n",
    "        pass\n",
    "\n",
    "flower = Flowers(\"Rose\", \"Red\", \"Sunlight, moderate water\")\n",
    "plant = Plants(\"Cactus\", \"Various\", \"Full sunlight, minimal water\")\n",
    "\n",
    "print(isinstance(flower, Plants))\n",
    "print(isinstance(flower, Flowers))\n",
    "print(isinstance(plant, Plants))\n",
    "print(isinstance(plant, Flowers))\n",
    "\n",
    "print(issubclass(Flowers, Plants))\n",
    "print(issubclass(Plants, Flowers))"
   ],
   "metadata": {
    "id": "L_V1bBvDM0GN",
    "colab": {
     "base_uri": "https://localhost:8080/"
    },
    "outputId": "362d33a9-d33c-4719-bf69-452585c88865"
   },
   "execution_count": 93,
   "outputs": [
    {
     "output_type": "stream",
     "name": "stdout",
     "text": [
      "True\n",
      "True\n",
      "True\n",
      "False\n",
      "True\n",
      "False\n"
     ]
    }
   ]
  },
  {
   "cell_type": "markdown",
   "source": [
    "8. (13б). Створіть клас BankAccount з приватними атрибутами balance та account_number. Реалізуйте методи поповнення та зняття коштів, забезпечивши належну інкапсуляцію. Підказка: використовуйте декоратори property та setter."
   ],
   "metadata": {
    "id": "jjsaBZ-iM0Qq"
   }
  },
  {
   "cell_type": "code",
   "source": [
    "class BankAccount():\n",
    "    def __init__(self, account_number, balance):\n",
    "        self.__account_number = account_number\n",
    "        self.__balance = balance\n",
    "\n",
    "    @property\n",
    "    def balance(self):\n",
    "        return self.__balance\n",
    "\n",
    "    @balance.setter\n",
    "    def balance(self, new_balance):\n",
    "        if new_balance < 0:\n",
    "            print(\"Balance cannot be negative\")\n",
    "        else:\n",
    "            self.__balance = new_balance\n",
    "\n",
    "    @property\n",
    "    def account_number(self):\n",
    "        return self.__account_number\n",
    "\n",
    "    @account_number.setter\n",
    "    def account_number(self, ac_number):\n",
    "        self.__account_number = ac_number\n",
    "\n",
    "    def deposit(self, amount):\n",
    "        if amount < 0:\n",
    "            print(\"Deposit amount cannot be negative\")\n",
    "        else:\n",
    "            self.balance += amount\n",
    "\n",
    "    def withdraw(self, amount):\n",
    "        if amount < 0:\n",
    "            print(\"Withdrawal amount cannot be negative\")\n",
    "        if amount > self.balance:\n",
    "            print(\"There is not enough money\")\n",
    "        else:\n",
    "            self.balance -= amount\n",
    "\n",
    "account_1 = BankAccount(\"234257238\", 6000)\n",
    "account_2 = BankAccount(\"256762119\", 45000)\n",
    "\n",
    "print(f\"Balance of {account_1.account_number}: {account_1.balance}\")\n",
    "print(f\"Balance of {account_2.account_number}: {account_2.balance}\")\n",
    "\n",
    "account_1.deposit(648)\n",
    "print(f\"Balance of {account_1.account_number} after deposit: {account_1.balance}\")\n",
    "\n",
    "account_2.withdraw(15000)\n",
    "print(f\"Balance of {account_2.account_number} after withdrawal: {account_2.balance}\")\n"
   ],
   "metadata": {
    "id": "xCvZ7lh8M7YA",
    "colab": {
     "base_uri": "https://localhost:8080/"
    },
    "outputId": "cbd3393b-ae39-44bb-bb2c-6a1aafff4dc8"
   },
   "execution_count": 98,
   "outputs": [
    {
     "output_type": "stream",
     "name": "stdout",
     "text": [
      "Balance of 234257238: 6000\n",
      "Balance of 256762119: 45000\n",
      "Balance of 234257238 after deposit: 6648\n",
      "Balance of 256762119 after withdrawal: 30000\n"
     ]
    }
   ]
  },
  {
   "cell_type": "markdown",
   "source": [
    "9. (11б). Створіть клас Library, який містить список об'єктів типу Book. Реалізуйте методи для додавання книги, видалення книги та відображення списку книг."
   ],
   "metadata": {
    "id": "tIzL2SJTM8ft"
   }
  },
  {
   "cell_type": "code",
   "source": [
    "class Book():\n",
    "     def __init__(self, title, author, year):\n",
    "        self.title = title\n",
    "        self.author = author\n",
    "        self.year = year\n",
    "\n",
    "class Library():\n",
    "    def __init__(self):\n",
    "        self.books = []\n",
    "\n",
    "    def add_book(self, book):\n",
    "        self.books.append(book)\n",
    "\n",
    "    def remove_book(self, book):\n",
    "        for each_book in self.books:\n",
    "            if each_book == book:\n",
    "                self.books.remove(each_book)\n",
    "            else:\n",
    "                self.books\n",
    "\n",
    "    def display(self):\n",
    "        for book in self.books:\n",
    "            print(f\"{book.title} ({book.author}, {book.year})\")\n",
    "\n",
    "library = Library()\n",
    "print(\"Library: \")\n",
    "book_1 = Book(\"Dune\", \"Frank Herbert\", 1965)\n",
    "book_2 = Book(\"The Little Prince\", \"Antoine de Saint-Exupery\", 1943)\n",
    "book_3 = Book(\"Sherlock Holmes\", \"Arthur Conan Doyle\", 1892)\n",
    "book_4 = Book(\"1984\", \"George Orwell\", 1949)\n",
    "\n",
    "library.add_book(book_1)\n",
    "library.add_book(book_2)\n",
    "library.add_book(book_3)\n",
    "library.add_book(book_4)\n",
    "\n",
    "library.display()\n",
    "\n",
    "print(\"=\"*40)\n",
    "\n",
    "print(f\"Library without some books: \")\n",
    "library.remove_book(book_1)\n",
    "library.remove_book(book_3)\n",
    "\n",
    "library.display()\n"
   ],
   "metadata": {
    "id": "HWxfJKLtNAUZ",
    "colab": {
     "base_uri": "https://localhost:8080/"
    },
    "outputId": "a27ea2db-edd9-4b73-acc6-2bc27d837108"
   },
   "execution_count": 78,
   "outputs": [
    {
     "output_type": "stream",
     "name": "stdout",
     "text": [
      "Library: \n",
      "Dune (Frank Herbert, 1965)\n",
      "The Little Prince (Antoine de Saint-Exupery, 1943)\n",
      "Sherlock Holmes (Arthur Conan Doyle, 1892)\n",
      "1984 (George Orwell, 1949)\n",
      "========================================\n",
      "Library without some books: \n",
      "The Little Prince (Antoine de Saint-Exupery, 1943)\n",
      "1984 (George Orwell, 1949)\n"
     ]
    }
   ]
  },
  {
   "cell_type": "markdown",
   "source": [
    "10. (13б). Створіть клас Person з атрибутами name та age. Створіть ще один клас Employee з такими атрибутами, як department та salary. Створіть клас Manager, який успадковує обидва класи Person та Employee. Продемонструйте використання множинної спадковості, створивши обʼєкт класу Manager та отримавши mro для цього класу."
   ],
   "metadata": {
    "id": "lmV8pAwwNIqu"
   }
  },
  {
   "cell_type": "code",
   "source": [
    "class Person():\n",
    "    def __init__(self, name, age):\n",
    "        self.name = name\n",
    "        self.age = age\n",
    "\n",
    "    def get_information_about_person(self):\n",
    "        print(f\"Name: {self.name}, age: {self.age}\")\n",
    "\n",
    "class Employee():\n",
    "    def __init__(self, department, salary):\n",
    "        self.department = department\n",
    "        self.salary = salary\n",
    "\n",
    "    def get_information_about_employee(self):\n",
    "        print(f\"departament: {self.department}, salary: {self.salary}\")\n",
    "\n",
    "class Manager(Employee, Person):\n",
    "    def __init__(self, department, salary, name, age, responsibilities):\n",
    "        super().__init__(name, age)\n",
    "        super(Employee, self).__init__(department, salary)\n",
    "        self.responsibilities = responsibilities\n",
    "\n",
    "    def get_information(self):\n",
    "        super().get_information_about_person()\n",
    "        super().get_information_about_employee()\n",
    "        print(f\"responsibilities: {self.responsibilities}\")\n",
    "\n",
    "\n",
    "print(Manager.__mro__)\n",
    "print(\"=\"*40)\n",
    "manager_1 = Manager(\"Bob\", 23, \"Finance\", 20000, \"paperwork\")\n",
    "manager_1.get_information()\n",
    "\n"
   ],
   "metadata": {
    "id": "R49grKlWNPeN",
    "colab": {
     "base_uri": "https://localhost:8080/"
    },
    "outputId": "4f23d732-72e2-4b9b-d651-125f3ab79d14"
   },
   "execution_count": 203,
   "outputs": [
    {
     "output_type": "stream",
     "name": "stdout",
     "text": [
      "(<class '__main__.Manager'>, <class '__main__.Employee'>, <class '__main__.Person'>, <class 'object'>)\n",
      "========================================\n",
      "Name: Bob, age: 23\n",
      "departament: Finance, salary: 20000\n",
      "responsibilities: paperwork\n"
     ]
    }
   ]
  },
  {
   "cell_type": "markdown",
   "source": [
    "# II. Iterator"
   ],
   "metadata": {
    "id": "dIJyUiNBFG8G"
   }
  },
  {
   "cell_type": "markdown",
   "source": [
    "11. (4б). Визначте рядок(str) з 4ма різними за значенням символами. Створіть ітератор на основі цього рядка. Викличте 5 разів функцію next на ітераторі, 4ри перших з них огорніть у ф-цію print()."
   ],
   "metadata": {
    "id": "13vsm0NyKIzL"
   }
  },
  {
   "cell_type": "code",
   "source": [
    "my_string = \"abgh\"\n",
    "iterator = iter(my_string)\n",
    "print(next(iterator))\n",
    "print(next(iterator))\n",
    "print(next(iterator))\n",
    "print(next(iterator))"
   ],
   "metadata": {
    "id": "81ntabAkKuz-",
    "colab": {
     "base_uri": "https://localhost:8080/"
    },
    "outputId": "2d8783c2-08cc-45cb-973c-2a1e56015aeb"
   },
   "execution_count": 99,
   "outputs": [
    {
     "output_type": "stream",
     "name": "stdout",
     "text": [
      "a\n",
      "b\n",
      "g\n",
      "h\n"
     ]
    }
   ]
  },
  {
   "cell_type": "markdown",
   "source": [
    "А що якщо викликати цю ж функцію на рядку?"
   ],
   "metadata": {
    "id": "aekWHGXOLRsO"
   }
  },
  {
   "cell_type": "code",
   "source": [
    "print(next(my_string))\n",
    "print(next(my_string))\n",
    "print(next(my_string))\n",
    "print(next(my_string))"
   ],
   "metadata": {
    "id": "mxATGsErLV1i",
    "colab": {
     "base_uri": "https://localhost:8080/",
     "height": 193
    },
    "outputId": "e5d38b7e-92de-40a2-8cf3-49657a7c0698"
   },
   "execution_count": 104,
   "outputs": [
    {
     "output_type": "error",
     "ename": "TypeError",
     "evalue": "'str' object is not an iterator",
     "traceback": [
      "\u001B[0;31m---------------------------------------------------------------------------\u001B[0m",
      "\u001B[0;31mTypeError\u001B[0m                                 Traceback (most recent call last)",
      "\u001B[0;32m<ipython-input-104-a9f05376f5b2>\u001B[0m in \u001B[0;36m<cell line: 1>\u001B[0;34m()\u001B[0m\n\u001B[0;32m----> 1\u001B[0;31m \u001B[0mprint\u001B[0m\u001B[0;34m(\u001B[0m\u001B[0mnext\u001B[0m\u001B[0;34m(\u001B[0m\u001B[0mmy_string\u001B[0m\u001B[0;34m)\u001B[0m\u001B[0;34m)\u001B[0m\u001B[0;34m\u001B[0m\u001B[0;34m\u001B[0m\u001B[0m\n\u001B[0m\u001B[1;32m      2\u001B[0m \u001B[0mprint\u001B[0m\u001B[0;34m(\u001B[0m\u001B[0mnext\u001B[0m\u001B[0;34m(\u001B[0m\u001B[0mmy_string\u001B[0m\u001B[0;34m)\u001B[0m\u001B[0;34m)\u001B[0m\u001B[0;34m\u001B[0m\u001B[0;34m\u001B[0m\u001B[0m\n\u001B[1;32m      3\u001B[0m \u001B[0mprint\u001B[0m\u001B[0;34m(\u001B[0m\u001B[0mnext\u001B[0m\u001B[0;34m(\u001B[0m\u001B[0mmy_string\u001B[0m\u001B[0;34m)\u001B[0m\u001B[0;34m)\u001B[0m\u001B[0;34m\u001B[0m\u001B[0;34m\u001B[0m\u001B[0m\n\u001B[1;32m      4\u001B[0m \u001B[0mprint\u001B[0m\u001B[0;34m(\u001B[0m\u001B[0mnext\u001B[0m\u001B[0;34m(\u001B[0m\u001B[0mmy_string\u001B[0m\u001B[0;34m)\u001B[0m\u001B[0;34m)\u001B[0m\u001B[0;34m\u001B[0m\u001B[0;34m\u001B[0m\u001B[0m\n",
      "\u001B[0;31mTypeError\u001B[0m: 'str' object is not an iterator"
     ]
    }
   ]
  },
  {
   "cell_type": "markdown",
   "source": [
    " 12. (5б). Опишіть своїми словами в одному реченні, як ви розумієте різницю між ітерабельними обʼєктами та ітераторами (можна на прикладі)."
   ],
   "metadata": {
    "id": "XwtMEopwJ4pH"
   }
  },
  {
   "cell_type": "markdown",
   "source": [
    "Ітерабельні об'єкти - це ті, які можна обійти за допомогою циклу for (рядки, списки, словники), а ітератор - це об'єкт, який послідовно видає елементи з ітерабельного об'єкта.\n",
    "\n"
   ],
   "metadata": {
    "id": "-sHrODc3KFn8"
   }
  },
  {
   "cell_type": "markdown",
   "source": [
    "13. (11б). Створіть клас, що має визначений Iterator Protocol та при кожному виклику next повертає літери англійської абетки, поки вони не вичерпаються."
   ],
   "metadata": {
    "id": "E9qJWmNbK8Gl"
   }
  },
  {
   "cell_type": "code",
   "source": [
    "class Alphabet():\n",
    "    def __init__(self, start, length):\n",
    "        self.i =start -1\n",
    "        self.length = length\n",
    "\n",
    "    def __iter__(self):\n",
    "        return self\n",
    "\n",
    "    def __next__(self):\n",
    "        self.i += 1\n",
    "        if self.i > len(alphabet):\n",
    "            raise StopIteration\n",
    "        else:\n",
    "            return alphabet[self.i]\n",
    "\n",
    "alphabet = \"abcdefghijklmnopqrstuvwxyz\"\n",
    "iterator = Alphabet(0, len(alphabet))"
   ],
   "metadata": {
    "id": "cqx-g_RsLo6I"
   },
   "execution_count": 171,
   "outputs": []
  },
  {
   "cell_type": "code",
   "source": [
    "next(iterator)"
   ],
   "metadata": {
    "colab": {
     "base_uri": "https://localhost:8080/",
     "height": 263
    },
    "id": "bupV71IA5gNm",
    "outputId": "c5a47ae8-5708-496e-e6f3-680d00c4207e"
   },
   "execution_count": 199,
   "outputs": [
    {
     "output_type": "error",
     "ename": "StopIteration",
     "evalue": "",
     "traceback": [
      "\u001B[0;31m---------------------------------------------------------------------------\u001B[0m",
      "\u001B[0;31mStopIteration\u001B[0m                             Traceback (most recent call last)",
      "\u001B[0;32m<ipython-input-199-4ce711c44abc>\u001B[0m in \u001B[0;36m<cell line: 1>\u001B[0;34m()\u001B[0m\n\u001B[0;32m----> 1\u001B[0;31m \u001B[0mnext\u001B[0m\u001B[0;34m(\u001B[0m\u001B[0miterator\u001B[0m\u001B[0;34m)\u001B[0m\u001B[0;34m\u001B[0m\u001B[0;34m\u001B[0m\u001B[0m\n\u001B[0m",
      "\u001B[0;32m<ipython-input-171-37e15bb8124f>\u001B[0m in \u001B[0;36m__next__\u001B[0;34m(self)\u001B[0m\n\u001B[1;32m     10\u001B[0m         \u001B[0mself\u001B[0m\u001B[0;34m.\u001B[0m\u001B[0mi\u001B[0m \u001B[0;34m+=\u001B[0m \u001B[0;36m1\u001B[0m\u001B[0;34m\u001B[0m\u001B[0;34m\u001B[0m\u001B[0m\n\u001B[1;32m     11\u001B[0m         \u001B[0;32mif\u001B[0m \u001B[0mself\u001B[0m\u001B[0;34m.\u001B[0m\u001B[0mi\u001B[0m \u001B[0;34m>\u001B[0m \u001B[0mlen\u001B[0m\u001B[0;34m(\u001B[0m\u001B[0malphabet\u001B[0m\u001B[0;34m)\u001B[0m\u001B[0;34m:\u001B[0m\u001B[0;34m\u001B[0m\u001B[0;34m\u001B[0m\u001B[0m\n\u001B[0;32m---> 12\u001B[0;31m             \u001B[0;32mraise\u001B[0m \u001B[0mStopIteration\u001B[0m\u001B[0;34m\u001B[0m\u001B[0;34m\u001B[0m\u001B[0m\n\u001B[0m\u001B[1;32m     13\u001B[0m         \u001B[0;32melse\u001B[0m\u001B[0;34m:\u001B[0m\u001B[0;34m\u001B[0m\u001B[0;34m\u001B[0m\u001B[0m\n\u001B[1;32m     14\u001B[0m             \u001B[0;32mreturn\u001B[0m \u001B[0malphabet\u001B[0m\u001B[0;34m[\u001B[0m\u001B[0mself\u001B[0m\u001B[0;34m.\u001B[0m\u001B[0mi\u001B[0m\u001B[0;34m]\u001B[0m\u001B[0;34m\u001B[0m\u001B[0;34m\u001B[0m\u001B[0m\n",
      "\u001B[0;31mStopIteration\u001B[0m: "
     ]
    }
   ]
  },
  {
   "cell_type": "markdown",
   "source": [
    "# Вітаю! Ви велика(ий) молодець, що впоралась(вся). Похваліть себе та побалуйте чимось приємним. Я Вами пишаюся."
   ],
   "metadata": {
    "id": "Z3E3S_s1Fv7-"
   }
  }
 ]
}
